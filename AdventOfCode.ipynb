{
 "cells": [
  {
   "cell_type": "markdown",
   "metadata": {},
   "source": [
    "### Day One"
   ]
  },
  {
   "cell_type": "code",
   "execution_count": 138,
   "metadata": {},
   "outputs": [
    {
     "name": "stdout",
     "output_type": "stream",
     "text": [
      "66719\n",
      "198551\n"
     ]
    }
   ],
   "source": [
    "# part one\n",
    "# how many calories is the elf with the most calories carrying\n",
    "  \n",
    "data = [int(x) if x != '\\n' else x for x in open('input_day1.txt', 'r')]\n",
    "count = 0\n",
    "sums = []\n",
    "\n",
    "for i,j in enumerate(data):\n",
    "    \n",
    "    if j != '\\n':\n",
    "        count += j\n",
    "    else:\n",
    "        sums.append(count)\n",
    "        count = 0\n",
    "\n",
    "print(max(sums))\n",
    "\n",
    "# part two\n",
    "# how many calories are the three elves with the most calories carrying in total\n",
    "\n",
    "sums.sort(reverse = True)\n",
    "print(sum(sums[0:3]))\n",
    "\n",
    "f.close()"
   ]
  },
  {
   "cell_type": "markdown",
   "metadata": {},
   "source": [
    "### Day Two"
   ]
  },
  {
   "cell_type": "code",
   "execution_count": 163,
   "metadata": {},
   "outputs": [
    {
     "name": "stdout",
     "output_type": "stream",
     "text": [
      "14375 10274\n"
     ]
    }
   ],
   "source": [
    "X = [l.strip() for l in open('input_day2.txt')] # The strip() method removes any leading (spaces at the beginning) and trailing (spaces at the end) characters (space is the default leading character to remove)\n",
    "score_p1 = 0\n",
    "score_p2 = 0\n",
    "for x in X:\n",
    "    op,me = x.split()\n",
    "#     print(op,me)\n",
    "\n",
    "    # part one\n",
    "    \n",
    "    score_p1 += {'X': 1, 'Y':2, 'Z': 3}[me] \n",
    "    score_p1 += {('A', 'X'): 3, ('A', 'Y'): 6, ('A', 'Z'): 0,\n",
    "             ('B', 'X'): 0, ('B', 'Y'): 3, ('B', 'Z'): 6,\n",
    "             ('C', 'X'): 6, ('C', 'Y'): 0, ('C', 'Z'): 3}[(op,me)]\n",
    "    score_p2 += {'X': 0, 'Y':3, 'Z': 6}[me] \n",
    "    \n",
    "    # part two\n",
    "    \n",
    "    score_p2 += {('A', 'X'): 3, ('A', 'Y'): 1, ('A', 'Z'): 2,\n",
    "             ('B', 'X'): 1, ('B', 'Y'): 2, ('B', 'Z'): 3,\n",
    "             ('C', 'X'): 2, ('C', 'Y'): 3, ('C', 'Z'): 1}[(op,me)]\n",
    "\n",
    "print(score_p1, score_p2)\n",
    "\n",
    "# in second part the roles of the dictionaries are reversed, i.e. first dict is win lose or draw points while the second\n",
    "# dict is the guaranteed points for which move we chose"
   ]
  },
  {
   "cell_type": "markdown",
   "metadata": {},
   "source": [
    "### Day 3"
   ]
  },
  {
   "cell_type": "code",
   "execution_count": 171,
   "metadata": {},
   "outputs": [
    {
     "name": "stdout",
     "output_type": "stream",
     "text": [
      "8109\n",
      "2738\n"
     ]
    }
   ],
   "source": [
    "# part one\n",
    "\n",
    "def score(c):\n",
    "    if 'a'<=c<='z':\n",
    "        return ord(c) - ord('a') + 1\n",
    "    else:\n",
    "        return ord(c) - ord('A') + 1 + 26\n",
    "    \n",
    "p1 = 0\n",
    "for line in open('input_day3.txt'):\n",
    "    x = line.strip()\n",
    "    y,z = x[:len(x)//2], x[len(x)//2:]\n",
    "    for c in y:\n",
    "        if c in z:\n",
    "            p1 += score(c)\n",
    "            break\n",
    "            \n",
    "print(p1)\n",
    "\n",
    "# part two\n",
    "\n",
    "p2 = 0\n",
    "X = [line for line in open('input_day3.txt')]\n",
    "i = 0\n",
    "while i < len(X):\n",
    "    for c in X[i]:\n",
    "        if c in X[i+1] and c in X[i+2]:\n",
    "            p2 += score(c)\n",
    "            break\n",
    "    i += 3\n",
    "    \n",
    "print(p2)"
   ]
  },
  {
   "cell_type": "markdown",
   "metadata": {},
   "source": [
    "### Day 4"
   ]
  },
  {
   "cell_type": "code",
   "execution_count": 193,
   "metadata": {},
   "outputs": [
    {
     "name": "stdout",
     "output_type": "stream",
     "text": [
      "595 952\n"
     ]
    }
   ],
   "source": [
    "count1 = 0\n",
    "count2 = 0\n",
    "\n",
    "for line in open('input_day4.txt', 'r'):\n",
    "    x = line.strip()\n",
    "    y,z = x.split(',')\n",
    "    y2, z2 = y.split('-'), z.split('-')\n",
    "#     print(y2, z2)\n",
    "\n",
    "    # part one\n",
    "    \n",
    "    if int(y2[0]) >= int(z2[0]) and int(y2[1]) <= int(z2[1]) or int(z2[0]) >= int(y2[0]) and int(z2[1]) <= int(y2[1]):\n",
    "        count1 += 1\n",
    "        \n",
    "    # part two\n",
    "    \n",
    "    if int(y2[0]) in range(int(z2[0]),int(z2[1])+1) or int(y2[1]) in range(int(z2[0]),int(z2[1])+1) or int(z2[0]) in range(int(y2[0]),int(y2[1])+1) or int(z2[1]) in range(int(y2[0]),int(y2[1])+1):\n",
    "        count2 += 1\n",
    "    \n",
    "print(count1, count2)"
   ]
  },
  {
   "cell_type": "code",
   "execution_count": 40,
   "metadata": {},
   "outputs": [
    {
     "name": "stdout",
     "output_type": "stream",
     "text": [
      "595 952\n"
     ]
    }
   ],
   "source": [
    "# Jonathan's solution\n",
    "\n",
    "count1 = 0\n",
    "count2 = 0\n",
    "\n",
    "for line in open('input_day4.txt', 'r'):\n",
    "    x = line.strip()\n",
    "    one,two = x.split(',')\n",
    "    s1,e1 = one.split('-') # s1 e1 denote start1 and end1\n",
    "    s2,e2 = two.split('-')\n",
    "    s1,e1,s2,e2 = [int(x) for x in [s1,e1,s2,e2]]\n",
    "    \n",
    "    # part one\n",
    "    # (s2,e2) is fully contained in (s1,e1) if s1<= s2 and e1>=e2 and vice versa\n",
    "    if s1<=s2 and e1>=e2 or s2<=s1 and e2>=e1:\n",
    "        count1 += 1\n",
    "    # part two\n",
    "    # (s2,e2) overlaps with (s1,e1) if it is not completely to the left or completely to the right of it\n",
    "    #         s2 -- e2\n",
    "    #   e1                s1 \n",
    "    if not (e1 < s2 or e2 < s1):\n",
    "        count2 += 1\n",
    "        \n",
    "print(count1, count2)"
   ]
  },
  {
   "cell_type": "markdown",
   "metadata": {},
   "source": [
    "### Day 5"
   ]
  },
  {
   "cell_type": "code",
   "execution_count": 5,
   "metadata": {},
   "outputs": [
    {
     "name": "stdout",
     "output_type": "stream",
     "text": [
      "VGBBJCRMN\n",
      "LBBVJBRMH\n"
     ]
    }
   ],
   "source": [
    "from copy import deepcopy\n",
    "f = open('input_day5.txt', 'r')\n",
    "lines = f.readlines()\n",
    "\n",
    "all_stacks = []\n",
    "j = 1\n",
    "while j < len(lines[0]):\n",
    "    for i in range(8):\n",
    "        all_stacks.append(lines[i][j])\n",
    "    all_stacks.append('new_stack')\n",
    "    j += 4\n",
    "    \n",
    "all_stacks = ''.join(all_stacks).split('new_stack')\n",
    "all_stacks = [item.strip() for item in all_stacks]\n",
    "\n",
    "stacks = [[],[],[],[],[],[],[],[],[]]\n",
    "\n",
    "for i in range(0,len(all_stacks)-1):\n",
    "    for j in range(len(all_stacks[i])):\n",
    "        stacks[i].append(all_stacks[i][j])\n",
    "\n",
    "S1 = deepcopy(stacks)\n",
    "S2 = deepcopy(stacks)\n",
    "\n",
    "for cmd in lines[10:]:\n",
    "#     print(cmd)\n",
    "    words = cmd.split()\n",
    "    qty = int(words[1])\n",
    "    from_ = int(words[3]) - 1\n",
    "    to_ = int(words[5]) - 1\n",
    "    for (ST, do_rev) in [(S1, True), (S2, False)]: # for part one we want to reverse, for part two we don't\n",
    "        MOVE = ST[from_][:qty] # specify which letters you are moving\n",
    "        ST[from_] = ST[from_][qty:] # re-declare the stack without the letters that have just been moved\n",
    "        ST[to_] = (list(reversed(MOVE)) if do_rev else MOVE) + ST[to_]\n",
    "print(''.join([s[0] for s in S1 if len(s)>0])) # retrieve the first element in each list i.e. the top of the stack\n",
    "print(''.join([s[0] for s in S2 if len(s)>0]))"
   ]
  },
  {
   "cell_type": "markdown",
   "metadata": {},
   "source": [
    "### Day 6"
   ]
  },
  {
   "cell_type": "code",
   "execution_count": 52,
   "metadata": {},
   "outputs": [
    {
     "name": "stdout",
     "output_type": "stream",
     "text": [
      "1723\n",
      "3708\n"
     ]
    }
   ],
   "source": [
    "data = open('input_day6.txt').read()\n",
    "p1 = False\n",
    "p2 = False\n",
    "\n",
    "for i in range(len(data)):\n",
    "    if (not p1) and i-3>=0 and len(set([data[i-j] for j in range(4)]))==4: # Make a set of i-0, i-1, 1-2 and i-3, then go on and increment i\n",
    "        print(i+1)\n",
    "        p1 = True\n",
    "    if (not p2) and i-13>=0 and len(set([data[i-j] for j in range(14)]))==14:\n",
    "        print(i+1)\n",
    "        p2 = True"
   ]
  },
  {
   "cell_type": "code",
   "execution_count": 15,
   "metadata": {},
   "outputs": [],
   "source": [
    "# Sliding window version\n",
    "\n",
    "data = open('input_day6.txt').read()\n",
    "\n",
    "def func(n):\n",
    "    \n",
    "    for i in range(len(data)):\n",
    "        if len(set(data[i:i+n])) == n:\n",
    "            return i+n"
   ]
  },
  {
   "cell_type": "code",
   "execution_count": 16,
   "metadata": {},
   "outputs": [
    {
     "name": "stdout",
     "output_type": "stream",
     "text": [
      "1723\n",
      "3708\n"
     ]
    }
   ],
   "source": [
    "print(func(4))\n",
    "print(func(14))"
   ]
  },
  {
   "cell_type": "markdown",
   "metadata": {},
   "source": [
    "### Day 7"
   ]
  },
  {
   "cell_type": "code",
   "execution_count": 1,
   "metadata": {},
   "outputs": [
    {
     "name": "stdout",
     "output_type": "stream",
     "text": [
      "1297159\n",
      "3866390\n"
     ]
    }
   ],
   "source": [
    "from collections import defaultdict\n",
    "data = open('input_day7.txt').read().strip()\n",
    "lines = [x for x in data.split('\\n')]\n",
    "\n",
    "SZ = defaultdict(int) # maps directory path --> total size of that directory (including subdirectories)\n",
    "path = [] # to keep track of which directory we are in\n",
    "for line in lines:\n",
    "#     print(\"Path: \", path)\n",
    "    words = line.strip().split()\n",
    "    if words[1] == 'cd': # the next if-else lets us keep track of which directory we are in\n",
    "        if words[2] == '..': # if we move out of directory / change to parent directory, pop last item from path\n",
    "            path.pop()\n",
    "        else:\n",
    "            path.append(words[2]) # otherwise we add to the path\n",
    "    elif words[1] == 'ls':\n",
    "        continue\n",
    "    elif words[0] == 'dir':\n",
    "        continue\n",
    "    else:\n",
    "        sz = int(words[0]) # grab the file size \n",
    "        for i in range(1, len(path)+1): # Add this file's size to the current directory size *and* the size of all the parents so we loop through each directory\n",
    "            SZ['/'.join(path[:i])] += sz # first we add to '/' directory, then to child of /, NOTE* we use 1 to len(path)+1 as range because if we start at 0 we would have indexing of [0:i] and on first iteration where i=0 this would be [0:0]\n",
    "        \n",
    "# The total disk space available to the filesystem is 70000000. To run the update, \n",
    "# you need unused space of at least 30000000. You need to find a directory you can \n",
    "# delete that will free up enough space to run the update. i.e. what is the size of the smallest\n",
    "# directory that is bigger than 'need_to_free'\n",
    "        \n",
    "\n",
    "max_used = 70000000 - 30000000\n",
    "total_used = SZ['/']\n",
    "need_to_free = total_used - max_used\n",
    "\n",
    "p2 = 1e9\n",
    "p1 = 0\n",
    "for k,v in SZ.items():\n",
    "#     print(k,v) # see what the size of each directory is\n",
    "    if v <= 100000:\n",
    "        p1 += v\n",
    "    if v >= need_to_free: # of the diirectories that are big enough, take the smallest one\n",
    "        p2 = min(p2,v)\n",
    "print(p1)\n",
    "print(p2)"
   ]
  },
  {
   "cell_type": "markdown",
   "metadata": {},
   "source": [
    "### Day 8"
   ]
  },
  {
   "cell_type": "code",
   "execution_count": 49,
   "metadata": {},
   "outputs": [
    {
     "name": "stdout",
     "output_type": "stream",
     "text": [
      "1798\n"
     ]
    },
    {
     "data": {
      "text/plain": [
       "259308"
      ]
     },
     "execution_count": 49,
     "metadata": {},
     "output_type": "execute_result"
    }
   ],
   "source": [
    "from collections import defaultdict\n",
    "data = open('input_day8.txt').read().strip()\n",
    "rows = [line for line in data.split('\\n')]\n",
    "columns = [[row[i] for row in rows] for i in range(0,len(rows))]\n",
    "\n",
    "p1 = 0\n",
    "p1 += (len(rows[0]) * 2) + ((len(rows)-2) * 2)  # top_and_bottom and right_and_left exteriors\n",
    "\n",
    "right = defaultdict(int)\n",
    "left = defaultdict(int)\n",
    "top = defaultdict(int)\n",
    "bottom = defaultdict(int)\n",
    "\n",
    "def func(num,lst):\n",
    "    output = []\n",
    "    for number in lst:\n",
    "        if int(num) > int(number):\n",
    "            output.append(number)\n",
    "        elif int(num) == int(number):\n",
    "            output.append(number)\n",
    "            break\n",
    "        else:\n",
    "            break\n",
    "    return output\n",
    "\n",
    "for j in range(1,len(rows) - 1): # iterate over rows\n",
    "    for i in range(1, len(rows[j]) - 1): # iterate over columns within a row\n",
    "        left_slice = rows[j][0:i] # everything to left of current position\n",
    "        right_slice = rows[j][i+1:] # everything to right of current position\n",
    "        top_slice = columns[i][0:j] # everything above current position\n",
    "        bottom_slice = columns[i][j+1:] # everything below current position\n",
    "        if rows[j][i] > max(left_slice) or rows[j][i] > max(right_slice) or rows[j][i] > max(top_slice) or rows[j][i] > max(bottom_slice):\n",
    "            p1 += 1 \n",
    "    \n",
    "        right[\"{}{}\".format(j,i)] = [func(rows[j][i],right_slice)]\n",
    "        left[\"{}{}\".format(j,i)] = [func(rows[j][i],reversed(left_slice))]\n",
    "        top[\"{}{}\".format(j,i)] = [func(rows[j][i],reversed(top_slice))]\n",
    "        bottom[\"{}{}\".format(j,i)] = [func(rows[j][i],bottom_slice)]\n",
    "\n",
    "print(p1)\n",
    "\n",
    "lstright,lstleft,lsttop,lstbottom  = [], [], [], []        \n",
    "\n",
    "for k,v in right.items():\n",
    "    lstright.append(len(v[0]))\n",
    "for k,v in left.items():\n",
    "    lstleft.append(len(v[0]))\n",
    "for k,v in top.items():\n",
    "    lsttop.append(len(v[0]))\n",
    "for k,v in bottom.items():\n",
    "    lstbottom.append(len(v[0]))\n",
    "        \n",
    "def multiply(lst1,lst2,lst3,lst4):\n",
    "    final = []\n",
    "    for i in range(len(lst1)):\n",
    "        final.append(lst1[i] * lst2[i] * lst3[i] * lst4[i])  \n",
    "    return max(final)\n",
    "\n",
    "multiply(lstright, lstleft, lsttop, lstbottom)"
   ]
  },
  {
   "cell_type": "code",
   "execution_count": null,
   "metadata": {},
   "outputs": [],
   "source": []
  },
  {
   "cell_type": "code",
   "execution_count": null,
   "metadata": {},
   "outputs": [],
   "source": []
  }
 ],
 "metadata": {
  "kernelspec": {
   "display_name": "Python 3",
   "language": "python",
   "name": "python3"
  },
  "language_info": {
   "codemirror_mode": {
    "name": "ipython",
    "version": 3
   },
   "file_extension": ".py",
   "mimetype": "text/x-python",
   "name": "python",
   "nbconvert_exporter": "python",
   "pygments_lexer": "ipython3",
   "version": "3.8.5"
  }
 },
 "nbformat": 4,
 "nbformat_minor": 4
}
